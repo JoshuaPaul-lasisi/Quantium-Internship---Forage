{
 "cells": [
  {
   "cell_type": "markdown",
   "metadata": {},
   "source": [
    "# Experimentation and Uplift testing"
   ]
  },
  {
   "cell_type": "code",
   "execution_count": 3,
   "metadata": {},
   "outputs": [],
   "source": [
    "# Import necessary libraries\n",
    "import pandas as pd\n",
    "import numpy as np\n",
    "import seaborn as sns\n",
    "import matplotlib.pyplot as plt\n",
    "import os\n",
    "from scipy.stats import pearsonr, ttest_ind"
   ]
  },
  {
   "cell_type": "code",
   "execution_count": 4,
   "metadata": {},
   "outputs": [],
   "source": [
    "# Load data\n",
    "data = pd.read_csv(\"../data/raw/QVI_data.csv\")\n",
    "\n",
    "# Convert DATE to datetime\n",
    "data['DATE'] = pd.to_datetime(data['DATE'])\n",
    "\n",
    "# Aggregate data to monthly level\n",
    "data['Month'] = data['DATE'].dt.to_period('M')\n",
    "\n",
    "# Calculate total sales, total customers, and average transactions per customer\n",
    "monthly_data = data.groupby(['STORE_NBR', 'Month']).agg(\n",
    "    total_sales=('TOT_SALES', 'sum'),\n",
    "    total_customers=('LYLTY_CARD_NBR', 'nunique'),\n",
    "    total_transactions=('TXN_ID', 'count')\n",
    ").reset_index()\n",
    "\n",
    "# Calculate average transactions per customer\n",
    "monthly_data['avg_txn_per_cust'] = monthly_data['total_transactions'] / monthly_data['total_customers']"
   ]
  },
  {
   "cell_type": "code",
   "execution_count": 5,
   "metadata": {},
   "outputs": [],
   "source": [
    "def calculate_similarity(trial_data, control_data):\n",
    "    \"\"\"\n",
    "    Calculates similarity between two time series.\n",
    "\n",
    "    Args:\n",
    "        trial_data: A pandas Series containing the time series data for the trial store.\n",
    "        control_data: A pandas Series containing the time series data for the control store.\n",
    "\n",
    "    Returns:\n",
    "        A tuple containing the Pearson correlation coefficient and the magnitude distance (normalized).\n",
    "    \"\"\"\n",
    "    # Ensure equal length for correlation calculation\n",
    "    min_length = min(len(trial_data), len(control_data))\n",
    "    trial_data = trial_data.iloc[:min_length]\n",
    "    control_data = control_data.iloc[:min_length]\n",
    "\n",
    "    # Calculate Pearson correlation\n",
    "    correlation = trial_data.corr(control_data)\n",
    "\n",
    "    # Calculate magnitude distance (normalized)\n",
    "    min_val = min(trial_data.min(), control_data.min())\n",
    "    max_val = max(trial_data.max(), control_data.max())\n",
    "    magnitude = abs(trial_data.values - control_data.values).mean() / (max_val - min_val)\n",
    "\n",
    "    return correlation, magnitude"
   ]
  },
  {
   "cell_type": "code",
   "execution_count": 6,
   "metadata": {},
   "outputs": [],
   "source": [
    "# Identify control stores for each trial store\n",
    "control_stores = {}\n",
    "trial_stores = [77, 86, 88]\n",
    "\n",
    "for trial_store in trial_stores:\n",
    "    trial_data = monthly_data[monthly_data['STORE_NBR'] == trial_store]['total_sales']\n",
    "    similarities = []\n",
    "    \n",
    "    for control_store in monthly_data['STORE_NBR'].unique():\n",
    "        if control_store == trial_store:\n",
    "            continue\n",
    "        \n",
    "        control_data = monthly_data[monthly_data['STORE_NBR'] == control_store]['total_sales']\n",
    "        correlation, magnitude = calculate_similarity(trial_data, control_data)\n",
    "        similarities.append((control_store, correlation, magnitude))\n",
    "    \n",
    "    # Sort by correlation and magnitude\n",
    "    similarities = sorted(similarities, key=lambda x: (-x[1], -x[2]))\n",
    "    control_stores[trial_store] = similarities[0][0]  # Best match"
   ]
  },
  {
   "cell_type": "code",
   "execution_count": 7,
   "metadata": {},
   "outputs": [],
   "source": [
    "# Trial period (e.g., Oct 2018 to Dec 2018)\n",
    "trial_period = pd.period_range('2018-10', '2018-12', freq='M')\n",
    "\n",
    "# Compare trial and control stores\n",
    "results = []\n",
    "\n",
    "for trial_store, control_store in control_stores.items():\n",
    "    trial_data = monthly_data[\n",
    "        (monthly_data['STORE_NBR'] == trial_store) & (monthly_data['Month'].isin(trial_period))\n",
    "    ]\n",
    "    control_data = monthly_data[\n",
    "        (monthly_data['STORE_NBR'] == control_store) & (monthly_data['Month'].isin(trial_period))\n",
    "    ]\n",
    "    \n",
    "    # T-test for total sales\n",
    "    t_stat, p_value = ttest_ind(trial_data['total_sales'], control_data['total_sales'])\n",
    "    \n",
    "    # Summarize findings\n",
    "    result = {\n",
    "        'Trial Store': trial_store,\n",
    "        'Control Store': control_store,\n",
    "        'T-Statistic': t_stat,\n",
    "        'P-Value': p_value,\n",
    "        'Significant': p_value < 0.05\n",
    "    }\n",
    "    results.append(result)"
   ]
  },
  {
   "cell_type": "code",
   "execution_count": 9,
   "metadata": {},
   "outputs": [],
   "source": [
    "import os\n",
    "import matplotlib.pyplot as plt\n",
    "\n",
    "# Image folder for visualization reports\n",
    "image_folder = '../reports/images/'\n",
    "os.makedirs(image_folder, exist_ok=True)\n",
    "\n",
    "# Example visualization for Trial Store 77\n",
    "for trial_store in trial_stores:\n",
    "    control_store = control_stores[trial_store]\n",
    "\n",
    "    trial_data = monthly_data[monthly_data['STORE_NBR'] == trial_store]\n",
    "    control_data = monthly_data[monthly_data['STORE_NBR'] == control_store]\n",
    "\n",
    "    # Extract month values (numeric) from the Period objects\n",
    "    trial_months = trial_data['Month'].dt.month  # Month as integer (1-12)\n",
    "    control_months = control_data['Month'].dt.month\n",
    "\n",
    "    plt.figure(figsize=(10, 6))\n",
    "    plt.plot(trial_months, trial_data['total_sales'], label=f'Trial Store {trial_store}')\n",
    "    plt.plot(control_months, control_data['total_sales'], label=f'Control Store {control_store}')\n",
    "    plt.title(f'Monthly Total Sales: Trial Store {trial_store} vs. Control Store {control_store}')\n",
    "    plt.xlabel('Month')\n",
    "    plt.ylabel('Total Sales')\n",
    "    plt.legend()\n",
    "\n",
    "    # Replace any problematic characters in the filename\n",
    "    safe_trial_store = str(trial_store).replace(':', '').replace('/', '_')\n",
    "    safe_control_store = str(control_store).replace(':', '').replace('/', '_')\n",
    "\n",
    "    file_name = f'Monthly_Total_Sales_Trial_Store_{safe_trial_store}_vs_Control_Store_{safe_control_store}.png'\n",
    "    plt.savefig(os.path.join(image_folder, file_name))\n",
    "    plt.close()  # Close the figure after saving to avoid memory issues\n"
   ]
  },
  {
   "cell_type": "code",
   "execution_count": null,
   "metadata": {},
   "outputs": [],
   "source": []
  }
 ],
 "metadata": {
  "kernelspec": {
   "display_name": "Python 3",
   "language": "python",
   "name": "python3"
  },
  "language_info": {
   "codemirror_mode": {
    "name": "ipython",
    "version": 3
   },
   "file_extension": ".py",
   "mimetype": "text/x-python",
   "name": "python",
   "nbconvert_exporter": "python",
   "pygments_lexer": "ipython3",
   "version": "3.12.1"
  }
 },
 "nbformat": 4,
 "nbformat_minor": 2
}
